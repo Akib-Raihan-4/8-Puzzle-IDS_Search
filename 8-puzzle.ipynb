{
 "cells": [
  {
   "cell_type": "markdown",
   "metadata": {},
   "source": [
    "## Making a class for 8-puzzle state"
   ]
  },
  {
   "cell_type": "code",
   "execution_count": null,
   "metadata": {},
   "outputs": [],
   "source": [
    "class PuzzleState:\n",
    "    def __init__(self, state, goalState):\n",
    "        self.state = state\n",
    "        self.goalSate = goalState\n",
    "\n",
    "    # Checking if the state reaches goal state\n",
    "    def is_goal(self):\n",
    "        return self.state == self.goalState\n",
    "    \n",
    "    # Returns all the possible moves for the blank space --> example: moves = [\"UP\", \"RIGHT\", ...]\n",
    "    def possible_moves(self):\n",
    "        moves = []\n",
    "        index_blank = self.state.index(-1)\n",
    "\n",
    "        # This condition checks if the blank space is in the first row or not\n",
    "        if index_blank > 2:\n",
    "            moves.append('UP')\n",
    "\n",
    "        # Similarly this checks if the blank space is in the last row or not\n",
    "        if index_blank < 6:\n",
    "            moves.append(\"DOWN\")\n",
    "\n",
    "        # This condition checks if the blank space is in the last column or not\n",
    "        if index_blank % 3 != 2:\n",
    "            moves.append(\"RIGHT\")\n",
    "\n",
    "        # This codition checks if the blank space is in the first column or not\n",
    "        if index_blank % 3 != 0:\n",
    "            moves.append(\"LEFT\")\n",
    "        \n",
    "        return moves\n"
   ]
  },
  {
   "cell_type": "code",
   "execution_count": null,
   "metadata": {},
   "outputs": [],
   "source": []
  }
 ],
 "metadata": {
  "kernelspec": {
   "display_name": "Python 3",
   "language": "python",
   "name": "python3"
  },
  "language_info": {
   "codemirror_mode": {
    "name": "ipython",
    "version": 3
   },
   "file_extension": ".py",
   "mimetype": "text/x-python",
   "name": "python",
   "nbconvert_exporter": "python",
   "pygments_lexer": "ipython3",
   "version": "3.11.4"
  }
 },
 "nbformat": 4,
 "nbformat_minor": 2
}
