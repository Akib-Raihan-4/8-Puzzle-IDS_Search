{
 "cells": [
  {
   "cell_type": "markdown",
   "metadata": {},
   "source": [
    "## Making a class for 8-puzzle state"
   ]
  },
  {
   "cell_type": "code",
   "execution_count": 10,
   "metadata": {},
   "outputs": [],
   "source": [
    "class PuzzleState:\n",
    "    def __init__(self, state, goalState):\n",
    "        self.state = state\n",
    "        self.goalState = goalState\n",
    "\n",
    "    # Checking if the state reaches goal state\n",
    "    def is_goalState(self):\n",
    "        return self.state == self.goalState\n",
    "    \n",
    "    # Returns all the possible moves for the blank space --> example: moves = [\"UP\", \"RIGHT\", ...]\n",
    "    def possible_moves(self):\n",
    "        moves = []\n",
    "        index_blank = self.state.index(-1)\n",
    "\n",
    "        # This condition checks if the blank space is in the first row or not\n",
    "        if index_blank > 2:\n",
    "            moves.append('UP')\n",
    "\n",
    "        # Similarly this checks if the blank space is in the last row or not\n",
    "        if index_blank < 6:\n",
    "            moves.append(\"DOWN\")\n",
    "\n",
    "        # This condition checks if the blank space is in the last column or not\n",
    "        if index_blank % 3 != 2:\n",
    "            moves.append(\"RIGHT\")\n",
    "\n",
    "        # This codition checks if the blank space is in the first column or not\n",
    "        if index_blank % 3 != 0:\n",
    "            moves.append(\"LEFT\")\n",
    "        \n",
    "        return moves\n",
    "\n",
    "    # Return a new state after an action is taken\n",
    "    def actions(self, move):\n",
    "        newState = self.state.copy()\n",
    "        index_blank = self.state.index(-1)\n",
    "\n",
    "        # Swapping with blank tiles thats all, nothing new\n",
    "        if move == \"UP\":\n",
    "            newState[index_blank], newState[index_blank - 3] = newState[index_blank - 3], newState[index_blank]\n",
    "        if move == \"DOWN\":\n",
    "            newState[index_blank], newState[index_blank + 3] = newState[index_blank + 3], newState[index_blank]\n",
    "        if move == \"RIGHT\":\n",
    "            newState[index_blank], newState[index_blank + 1] = newState[index_blank + 1], newState[index_blank]\n",
    "        if move == \"LEFT\":\n",
    "            newState[index_blank], newState[index_blank - 1] = newState[index_blank - 1], newState[index_blank]\n",
    "\n",
    "        return PuzzleState(newState, self.goalState)"
   ]
  },
  {
   "cell_type": "markdown",
   "metadata": {},
   "source": [
    "## Applying IDS search and also DFS"
   ]
  },
  {
   "cell_type": "code",
   "execution_count": 11,
   "metadata": {},
   "outputs": [],
   "source": [
    "def dfs(puzzleState, depth):\n",
    "    if puzzleState.is_goalState(): # Check if the puzzle reached the goal state\n",
    "        return []\n",
    "    \n",
    "    if depth == 0:\n",
    "        return None\n",
    "    \n",
    "    for move in puzzleState.possible_moves():\n",
    "        newState = puzzleState.actions(move) \n",
    "        soln = dfs(newState, depth-1)\n",
    "        if soln is not None:\n",
    "            return [move] + soln\n",
    "    return None"
   ]
  },
  {
   "cell_type": "code",
   "execution_count": 12,
   "metadata": {},
   "outputs": [],
   "source": [
    "def idsSearch(puzzleState, maxDepth): # IDS search is implemented with maximum depth defined\n",
    "    for depth in range(1, maxDepth + 1):\n",
    "        soln = dfs(puzzleState, depth)\n",
    "        if soln is not None:\n",
    "            return soln\n",
    "    return None"
   ]
  },
  {
   "cell_type": "code",
   "execution_count": 13,
   "metadata": {},
   "outputs": [],
   "source": []
  },
  {
   "cell_type": "code",
   "execution_count": 14,
   "metadata": {},
   "outputs": [
    {
     "name": "stdout",
     "output_type": "stream",
     "text": [
      "Solution is :  ['RIGHT', 'UP', 'RIGHT']\n"
     ]
    }
   ],
   "source": []
  }
 ],
 "metadata": {
  "kernelspec": {
   "display_name": "Python 3",
   "language": "python",
   "name": "python3"
  },
  "language_info": {
   "codemirror_mode": {
    "name": "ipython",
    "version": 3
   },
   "file_extension": ".py",
   "mimetype": "text/x-python",
   "name": "python",
   "nbconvert_exporter": "python",
   "pygments_lexer": "ipython3",
   "version": "3.11.4"
  }
 },
 "nbformat": 4,
 "nbformat_minor": 2
}
